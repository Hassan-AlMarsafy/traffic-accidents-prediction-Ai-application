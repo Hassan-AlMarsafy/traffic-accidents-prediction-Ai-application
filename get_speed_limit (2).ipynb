{
  "nbformat": 4,
  "nbformat_minor": 0,
  "metadata": {
    "colab": {
      "provenance": []
    },
    "kernelspec": {
      "name": "python3",
      "display_name": "Python 3"
    },
    "language_info": {
      "name": "python"
    }
  },
  "cells": [
    {
      "cell_type": "code",
      "source": [
        "!pip install pandas\n",
        "!pip install numpy\n",
        "!pip install requests\n",
        "!pip install tqdm"
      ],
      "metadata": {
        "id": "fqqyyWDvmSb4"
      },
      "execution_count": null,
      "outputs": []
    },
    {
      "cell_type": "code",
      "source": [
        "import requests\n",
        "import pandas as pd\n",
        "from tqdm import tqdm\n",
        "import time\n",
        "import os\n"
      ],
      "metadata": {
        "id": "5Vd9NBp0mSeb"
      },
      "execution_count": null,
      "outputs": []
    },
    {
      "cell_type": "code",
      "source": [
        "# Load full dataset\n",
        "df = pd.read_csv(\"us_accidents_40k_with_weather.csv\")\n",
        "\n",
        "# Ensure necessary columns are present\n",
        "required_cols = {\"ID\", \"Street\", \"City\"}\n",
        "assert required_cols.issubset(df.columns), f\"Missing required columns: {required_cols - set(df.columns)}\"\n",
        "\n",
        "# Display sample\n",
        "df.head()\n"
      ],
      "metadata": {
        "id": "vvT8kfdtmShR"
      },
      "execution_count": null,
      "outputs": []
    },
    {
      "cell_type": "code",
      "source": [
        "def get_lat_lng_from_address(street, city):\n",
        "    query = f\"{street}, {city}\"\n",
        "    url = \"https://nominatim.openstreetmap.org/search\"\n",
        "    params = {\n",
        "        \"q\": query,\n",
        "        \"format\": \"json\",\n",
        "        \"limit\": 1\n",
        "    }\n",
        "    try:\n",
        "        response = requests.get(url, params=params, headers={'User-Agent': 'speed-limit-fetcher'})\n",
        "        data = response.json()\n",
        "        if data:\n",
        "            return data[0][\"lat\"], data[0][\"lon\"]\n",
        "    except:\n",
        "        pass\n",
        "    return None, None\n",
        "\n",
        "def get_speed_limit_from_osm(lat, lon):\n",
        "    overpass_url = \"http://overpass-api.de/api/interpreter\"\n",
        "    query = f\"\"\"\n",
        "    [out:json];\n",
        "    way(around:20,{lat},{lon})[\"highway\"][\"maxspeed\"];\n",
        "    out tags;\n",
        "    \"\"\"\n",
        "    try:\n",
        "        response = requests.post(overpass_url, data={\"data\": query})\n",
        "        data = response.json()\n",
        "        for element in data[\"elements\"]:\n",
        "            if \"maxspeed\" in element[\"tags\"]:\n",
        "                return element[\"tags\"][\"maxspeed\"]\n",
        "    except:\n",
        "        pass\n",
        "    return None\n"
      ],
      "metadata": {
        "id": "pKbhW8cvmSj0"
      },
      "execution_count": null,
      "outputs": []
    },
    {
      "cell_type": "code",
      "source": [
        "# Output file path\n",
        "output_file = \"speed_limits_by_street.csv\"\n",
        "\n",
        "# Load existing results if resuming\n",
        "if os.path.exists(output_file):\n",
        "    existing_df = pd.read_csv(output_file)\n",
        "    completed_ids = set(existing_df[\"ID\"])\n",
        "    results = existing_df.to_dict(\"records\")\n",
        "    print(f\"Resuming from {len(completed_ids)} completed records.\")\n",
        "else:\n",
        "    completed_ids = set()\n",
        "    results = []\n"
      ],
      "metadata": {
        "id": "SQ92gI4tmSma"
      },
      "execution_count": null,
      "outputs": []
    },
    {
      "cell_type": "code",
      "source": [
        "# Filter rows not yet processed\n",
        "remaining_df = df[~df[\"ID\"].isin(completed_ids)]\n",
        "\n",
        "# Iterate with tqdm\n",
        "for _, row in tqdm(remaining_df.iterrows(), total=len(remaining_df)):\n",
        "    record_id = row[\"ID\"]\n",
        "    street, city = row[\"Street\"], row[\"City\"]\n",
        "\n",
        "    lat, lon = get_lat_lng_from_address(street, city)\n",
        "    time.sleep(1.1)  # Rate limit for Nominatim\n",
        "\n",
        "    if lat is not None and lon is not None:\n",
        "        speed = get_speed_limit_from_osm(lat, lon)\n",
        "        time.sleep(1.0)  # Be nice to Overpass API\n",
        "    else:\n",
        "        speed = None\n",
        "\n",
        "    results.append({\n",
        "        \"ID\": record_id,\n",
        "        \"Street\": street,\n",
        "        \"City\": city,\n",
        "        \"Speed_Limit\": speed\n",
        "    })\n",
        "\n",
        "    # Save incrementally after every record\n",
        "    pd.DataFrame(results).to_csv(output_file, index=False)\n"
      ],
      "metadata": {
        "id": "z7ggNZrimSpM"
      },
      "execution_count": null,
      "outputs": []
    },
    {
      "cell_type": "code",
      "source": [
        "# Reload final output to confirm\n",
        "final_df = pd.read_csv(output_file)\n",
        "print(f\"Total collected: {len(final_df)} speed limits\")\n",
        "final_df.head()\n"
      ],
      "metadata": {
        "id": "_PzxhdELmSrZ"
      },
      "execution_count": null,
      "outputs": []
    }
  ]
}